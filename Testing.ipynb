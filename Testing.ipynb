{
 "cells": [
  {
   "cell_type": "code",
   "execution_count": 1,
   "metadata": {
    "collapsed": true
   },
   "outputs": [],
   "source": [
    "import pandas as pd\n",
    "import numpy as np\n",
    "\n",
    "from tqdm import tqdm_notebook\n",
    "import Levenshtein\n",
    "import re\n",
    "\n",
    "import gensim\n",
    "\n",
    "from matplotlib import pyplot as plt\n",
    "import seaborn as sns\n",
    "%matplotlib inline"
   ]
  },
  {
   "cell_type": "code",
   "execution_count": 2,
   "metadata": {
    "collapsed": true
   },
   "outputs": [],
   "source": [
    "df = pd.read_excel('asn.xlsx')"
   ]
  },
  {
   "cell_type": "code",
   "execution_count": 3,
   "metadata": {},
   "outputs": [
    {
     "data": {
      "text/html": [
       "<div>\n",
       "<style>\n",
       "    .dataframe thead tr:only-child th {\n",
       "        text-align: right;\n",
       "    }\n",
       "\n",
       "    .dataframe thead th {\n",
       "        text-align: left;\n",
       "    }\n",
       "\n",
       "    .dataframe tbody tr th {\n",
       "        vertical-align: top;\n",
       "    }\n",
       "</style>\n",
       "<table border=\"1\" class=\"dataframe\">\n",
       "  <thead>\n",
       "    <tr style=\"text-align: right;\">\n",
       "      <th></th>\n",
       "      <th>review_text</th>\n",
       "      <th>tema</th>\n",
       "      <th>mark</th>\n",
       "    </tr>\n",
       "  </thead>\n",
       "  <tbody>\n",
       "    <tr>\n",
       "      <th>0</th>\n",
       "      <td>первое дтп в водительской карьере, первый опыт...</td>\n",
       "      <td>Автострахование</td>\n",
       "      <td>5</td>\n",
       "    </tr>\n",
       "    <tr>\n",
       "      <th>1</th>\n",
       "      <td>Уважаемые господа! Это был первый и последний ...</td>\n",
       "      <td>Автострахование</td>\n",
       "      <td>1</td>\n",
       "    </tr>\n",
       "    <tr>\n",
       "      <th>2</th>\n",
       "      <td>Мой отец Рогов Сергей Дмитриевич в 2014 году з...</td>\n",
       "      <td>Имущественное страхование</td>\n",
       "      <td>Без оценки</td>\n",
       "    </tr>\n",
       "    <tr>\n",
       "      <th>3</th>\n",
       "      <td>Сломал кость на кисти руки в гололёд, была стр...</td>\n",
       "      <td>Личное страхование</td>\n",
       "      <td>Без оценки</td>\n",
       "    </tr>\n",
       "    <tr>\n",
       "      <th>4</th>\n",
       "      <td>Страховой полис КАСКО- № 79089/046/3494384/6. ...</td>\n",
       "      <td>Автострахование</td>\n",
       "      <td>1</td>\n",
       "    </tr>\n",
       "  </tbody>\n",
       "</table>\n",
       "</div>"
      ],
      "text/plain": [
       "                                         review_text  \\\n",
       "0  первое дтп в водительской карьере, первый опыт...   \n",
       "1  Уважаемые господа! Это был первый и последний ...   \n",
       "2  Мой отец Рогов Сергей Дмитриевич в 2014 году з...   \n",
       "3  Сломал кость на кисти руки в гололёд, была стр...   \n",
       "4  Страховой полис КАСКО- № 79089/046/3494384/6. ...   \n",
       "\n",
       "                        tema                       mark  \n",
       "0            Автострахование  5                          \n",
       "1            Автострахование  1                          \n",
       "2  Имущественное страхование                 Без оценки  \n",
       "3         Личное страхование                 Без оценки  \n",
       "4            Автострахование  1                          "
      ]
     },
     "execution_count": 3,
     "metadata": {},
     "output_type": "execute_result"
    }
   ],
   "source": [
    "df.head()"
   ]
  },
  {
   "cell_type": "code",
   "execution_count": 4,
   "metadata": {},
   "outputs": [
    {
     "data": {
      "text/plain": [
       "count    20831.000000\n",
       "mean      1031.860688\n",
       "std       1005.525397\n",
       "min         52.000000\n",
       "25%        446.000000\n",
       "50%        765.000000\n",
       "75%       1271.000000\n",
       "max      28057.000000\n",
       "Name: review_text, dtype: float64"
      ]
     },
     "execution_count": 4,
     "metadata": {},
     "output_type": "execute_result"
    }
   ],
   "source": [
    "df.review_text.apply(len).describe()"
   ]
  },
  {
   "cell_type": "code",
   "execution_count": 6,
   "metadata": {},
   "outputs": [
    {
     "data": {
      "image/png": "[encoded data removed]",
      "text/plain": [
       "<matplotlib.figure.Figure at 0x10f1e21d0>"
      ]
     },
     "metadata": {},
     "output_type": "display_data"
    }
   ],
   "source": [
    "df.review_text.apply(len).hist(bins=100);"
   ]
  },
  {
   "cell_type": "code",
   "execution_count": 7,
   "metadata": {},
   "outputs": [
    {
     "data": {
      "text/plain": [
       "20831"
      ]
     },
     "execution_count": 7,
     "metadata": {},
     "output_type": "execute_result"
    }
   ],
   "source": [
    "len(df)"
   ]
  },
  {
   "cell_type": "code",
   "execution_count": 8,
   "metadata": {},
   "outputs": [
    {
     "data": {
      "text/plain": [
       "1                            11105\n",
       "5                             3147\n",
       "Без оценки                    3125\n",
       "2                             2004\n",
       "3                              739\n",
       "4                              711\n",
       "Name: mark, dtype: int64"
      ]
     },
     "execution_count": 8,
     "metadata": {},
     "output_type": "execute_result"
    }
   ],
   "source": [
    "df.mark.value_counts()"
   ]
  },
  {
   "cell_type": "code",
   "execution_count": 9,
   "metadata": {},
   "outputs": [
    {
     "data": {
      "text/plain": [
       "Автострахование              18124\n",
       "Личное страхование            1790\n",
       "Имущественное страхование      916\n",
       "Name: tema, dtype: int64"
      ]
     },
     "execution_count": 9,
     "metadata": {},
     "output_type": "execute_result"
    }
   ],
   "source": [
    "df.tema.value_counts()"
   ]
  },
  {
   "cell_type": "code",
   "execution_count": 10,
   "metadata": {
    "scrolled": true
   },
   "outputs": [
    {
     "data": {
      "text/plain": [
       "'Парковка для меня всегда была проблемой :) И вот очередной раз выезжая с парковки въехала в другой автомобиль. Задний бампер помят, у другого автомобиля также имелись повреждения. Пришлось звонить в контакт-центр Клувера. После моего звонка, ко мне сразу отправили аварийного комиссара. Специалист прибыл на парковку спустя 20 минут после моего обращения, а затем сам вызвал сотрудников ГИБДД. Мне даже не пришлось выходить из автомобиля, поскольку все вопросы решал аварком. Сотрудники прибыли на место аварии, все запротоколировали, специалист «Клувера» сделал фотографии, и буквально на следующий день я получила на руки направление на ремонт. Сейчас моим вопросом занимаются. Обещали привезти новый бампер, так что через несколько дней я отдам машину в ремонт. Я очень довольна тем, как аварийный комиссар Николай Коваценко решил все вопросы. Спасибо ему и «Клуверу». Я впервые страхуюсь по КАСКО и теперь поняла, как это удобно. Сам факт ДТП)'"
      ]
     },
     "execution_count": 10,
     "metadata": {},
     "output_type": "execute_result"
    }
   ],
   "source": [
    "df.loc[1500,'review_text']"
   ]
  },
  {
   "cell_type": "code",
   "execution_count": 12,
   "metadata": {
    "collapsed": true
   },
   "outputs": [],
   "source": [
    "#to lowercase\n",
    "df.review_text = df.review_text.apply(str.lower)"
   ]
  },
  {
   "cell_type": "code",
   "execution_count": 199,
   "metadata": {},
   "outputs": [
    {
     "data": {
      "text/plain": [
       "'парковка для меня всегда была проблемой :) и вот очередной раз выезжая с парковки въехала в другой автомобиль. задний бампер помят, у другого автомобиля также имелись повреждения. пришлось звонить в контакт-центр клувера. после моего звонка, ко мне сразу отправили аварийного комиссара. специалист прибыл на парковку спустя 20 минут после моего обращения, а затем сам вызвал сотрудников гибдд. мне даже не пришлось выходить из автомобиля, поскольку все вопросы решал аварком. сотрудники прибыли на место аварии, все запротоколировали, специалист «клувера» сделал фотографии, и буквально на следующий день я получила на руки направление на ремонт. сейчас моим вопросом занимаются. обещали привезти новый бампер, так что через несколько дней я отдам машину в ремонт. я очень довольна тем, как аварийный комиссар николай коваценко решил все вопросы. спасибо ему и «клуверу». я впервые страхуюсь по каско и теперь поняла, как это удобно. сам факт дтп)'"
      ]
     },
     "execution_count": 199,
     "metadata": {},
     "output_type": "execute_result"
    }
   ],
   "source": [
    "df.loc[1500,'review_text']"
   ]
  },
  {
   "cell_type": "code",
   "execution_count": 13,
   "metadata": {
    "collapsed": true
   },
   "outputs": [],
   "source": [
    "#убрать символы и цифры\n",
    "df.review_text = df.review_text.apply(lambda line: ''.join([i for i in line if i.isalpha() or i==' ']))"
   ]
  },
  {
   "cell_type": "code",
   "execution_count": 14,
   "metadata": {},
   "outputs": [
    {
     "data": {
      "text/plain": [
       "'парковка для меня всегда была проблемой  и вот очередной раз выезжая с парковки въехала в другой автомобиль задний бампер помят у другого автомобиля также имелись повреждения пришлось звонить в контактцентр клувера после моего звонка ко мне сразу отправили аварийного комиссара специалист прибыл на парковку спустя  минут после моего обращения а затем сам вызвал сотрудников гибдд мне даже не пришлось выходить из автомобиля поскольку все вопросы решал аварком сотрудники прибыли на место аварии все запротоколировали специалист клувера сделал фотографии и буквально на следующий день я получила на руки направление на ремонт сейчас моим вопросом занимаются обещали привезти новый бампер так что через несколько дней я отдам машину в ремонт я очень довольна тем как аварийный комиссар николай коваценко решил все вопросы спасибо ему и клуверу я впервые страхуюсь по каско и теперь поняла как это удобно сам факт дтп'"
      ]
     },
     "execution_count": 14,
     "metadata": {},
     "output_type": "execute_result"
    }
   ],
   "source": [
    "df.loc[1500,'review_text']"
   ]
  },
  {
   "cell_type": "code",
   "execution_count": 15,
   "metadata": {
    "collapsed": true
   },
   "outputs": [],
   "source": [
    "company_names = ['альфа',\\\n",
    "                 'ингосстрах','росгосстрах',\\\n",
    "                 'ресо','согласие','кардиф','вск',\\\n",
    "                 'югория','макс','ренессанс','втб',\\\n",
    "                 'интач','зетта','либерти','согаз',\\\n",
    "                 'гута','уралсиб','росно']\n",
    "\n",
    "company_names+=[i+'-страхование' for i in company_names if not i.endswith('страх')]\n",
    "\n",
    "def del_company_names(line):\n",
    "    for name in company_names:\n",
    "        for word in line.split():\n",
    "            ldist = Levenshtein.distance(word.lower(),name)\n",
    "            if ldist<=1:\n",
    "                line = line.replace(word,'')\n",
    "    return line"
   ]
  },
  {
   "cell_type": "code",
   "execution_count": 16,
   "metadata": {},
   "outputs": [
    {
     "name": "stdout",
     "output_type": "stream",
     "text": [
      "CPU times: user 1min, sys: 401 ms, total: 1min 1s\n",
      "Wall time: 1min 1s\n"
     ]
    }
   ],
   "source": [
    "%%time\n",
    "#убрать названия компаний\n",
    "df.review_text = df.review_text.apply(del_company_names)"
   ]
  },
  {
   "cell_type": "markdown",
   "metadata": {},
   "source": [
    "-------------"
   ]
  },
  {
   "cell_type": "code",
   "execution_count": 17,
   "metadata": {
    "collapsed": true
   },
   "outputs": [],
   "source": [
    "#проведем нормализацию текста\n",
    "import pymorphy2"
   ]
  },
  {
   "cell_type": "markdown",
   "metadata": {},
   "source": [
    "pymorphy2 написан на языке Python (работает под 2.7 и 3.3+). Он умеет:\n",
    "\n",
    "- приводить слово к нормальной форме (например, “люди -> человек”, или “гулял -> гулять”).\n",
    "- ставить слово в нужную форму. Например, ставить слово во множественное число, менять падеж слова и т.д.\n",
    "- возвращать грамматическую информацию о слове (число, род, падеж, часть речи и т.д.)\n",
    "\n",
    "При работе используется словарь OpenCorpora; для незнакомых слов строятся гипотезы. Библиотека достаточно быстрая: в настоящий момент скорость работы - от нескольких тыс слов/сек до > 100тыс слов/сек (в зависимости от выполняемой операции, интерпретатора и установленных пакетов); потребление памяти - 10...20Мб; полностью поддерживается буква ё."
   ]
  },
  {
   "cell_type": "code",
   "execution_count": 18,
   "metadata": {
    "collapsed": true
   },
   "outputs": [],
   "source": [
    "morph = pymorphy2.MorphAnalyzer() #для нормализации текста"
   ]
  },
  {
   "cell_type": "code",
   "execution_count": 95,
   "metadata": {},
   "outputs": [
    {
     "data": {
      "text/plain": [
       "'деньга'"
      ]
     },
     "execution_count": 95,
     "metadata": {},
     "output_type": "execute_result"
    }
   ],
   "source": [
    "morph.parse('деньги')[0].normal_form"
   ]
  },
  {
   "cell_type": "code",
   "execution_count": 102,
   "metadata": {},
   "outputs": [
    {
     "name": "stdout",
     "output_type": "stream",
     "text": [
      "стать\n"
     ]
    },
    {
     "data": {
      "text/plain": [
       "[Parse(word='стали', tag=OpencorporaTag('VERB,perf,intr plur,past,indc'), normal_form='стать', score=0.984662, methods_stack=((<DictionaryAnalyzer>, 'стали', 904, 4),)),\n",
       " Parse(word='стали', tag=OpencorporaTag('NOUN,inan,femn sing,gent'), normal_form='сталь', score=0.003067, methods_stack=((<DictionaryAnalyzer>, 'стали', 13, 1),)),\n",
       " Parse(word='стали', tag=OpencorporaTag('NOUN,inan,femn sing,datv'), normal_form='сталь', score=0.003067, methods_stack=((<DictionaryAnalyzer>, 'стали', 13, 2),)),\n",
       " Parse(word='стали', tag=OpencorporaTag('NOUN,inan,femn sing,loct'), normal_form='сталь', score=0.003067, methods_stack=((<DictionaryAnalyzer>, 'стали', 13, 5),)),\n",
       " Parse(word='стали', tag=OpencorporaTag('NOUN,inan,femn plur,nomn'), normal_form='сталь', score=0.003067, methods_stack=((<DictionaryAnalyzer>, 'стали', 13, 6),)),\n",
       " Parse(word='стали', tag=OpencorporaTag('NOUN,inan,femn plur,accs'), normal_form='сталь', score=0.003067, methods_stack=((<DictionaryAnalyzer>, 'стали', 13, 9),))]"
      ]
     },
     "execution_count": 102,
     "metadata": {},
     "output_type": "execute_result"
    }
   ],
   "source": [
    "p = morph.parse('стали')\n",
    "print(p[0].normal_form)\n",
    "p"
   ]
  },
  {
   "cell_type": "code",
   "execution_count": 103,
   "metadata": {},
   "outputs": [
    {
     "name": "stdout",
     "output_type": "stream",
     "text": [
      "ебали\n"
     ]
    },
    {
     "data": {
      "text/plain": [
       "[Parse(word='ебали', tag=OpencorporaTag('NOUN,anim,masc,Fixd,Name sing,nomn'), normal_form='ебали', score=0.06686046511627906, methods_stack=((<DictionaryAnalyzer>, 'али', 62, 0), (<UnknownPrefixAnalyzer>, 'еб'))),\n",
       " Parse(word='ебали', tag=OpencorporaTag('NOUN,anim,masc,Fixd,Name sing,gent'), normal_form='ебали', score=0.06686046511627906, methods_stack=((<DictionaryAnalyzer>, 'али', 62, 1), (<UnknownPrefixAnalyzer>, 'еб'))),\n",
       " Parse(word='ебали', tag=OpencorporaTag('NOUN,anim,masc,Fixd,Name sing,datv'), normal_form='ебали', score=0.06686046511627906, methods_stack=((<DictionaryAnalyzer>, 'али', 62, 2), (<UnknownPrefixAnalyzer>, 'еб'))),\n",
       " Parse(word='ебали', tag=OpencorporaTag('NOUN,anim,masc,Fixd,Name sing,accs'), normal_form='ебали', score=0.06686046511627906, methods_stack=((<DictionaryAnalyzer>, 'али', 62, 3), (<UnknownPrefixAnalyzer>, 'еб'))),\n",
       " Parse(word='ебали', tag=OpencorporaTag('NOUN,anim,masc,Fixd,Name sing,ablt'), normal_form='ебали', score=0.06686046511627906, methods_stack=((<DictionaryAnalyzer>, 'али', 62, 4), (<UnknownPrefixAnalyzer>, 'еб'))),\n",
       " Parse(word='ебали', tag=OpencorporaTag('NOUN,anim,masc,Fixd,Name sing,loct'), normal_form='ебали', score=0.06686046511627906, methods_stack=((<DictionaryAnalyzer>, 'али', 62, 5), (<UnknownPrefixAnalyzer>, 'еб'))),\n",
       " Parse(word='ебали', tag=OpencorporaTag('NOUN,anim,masc,Fixd,Name plur,nomn'), normal_form='ебали', score=0.06686046511627906, methods_stack=((<DictionaryAnalyzer>, 'али', 62, 6), (<UnknownPrefixAnalyzer>, 'еб'))),\n",
       " Parse(word='ебали', tag=OpencorporaTag('NOUN,anim,masc,Fixd,Name plur,gent'), normal_form='ебали', score=0.06686046511627906, methods_stack=((<DictionaryAnalyzer>, 'али', 62, 7), (<UnknownPrefixAnalyzer>, 'еб'))),\n",
       " Parse(word='ебали', tag=OpencorporaTag('NOUN,anim,masc,Fixd,Name plur,datv'), normal_form='ебали', score=0.06686046511627906, methods_stack=((<DictionaryAnalyzer>, 'али', 62, 8), (<UnknownPrefixAnalyzer>, 'еб'))),\n",
       " Parse(word='ебали', tag=OpencorporaTag('NOUN,anim,masc,Fixd,Name plur,accs'), normal_form='ебали', score=0.06686046511627906, methods_stack=((<DictionaryAnalyzer>, 'али', 62, 9), (<UnknownPrefixAnalyzer>, 'еб'))),\n",
       " Parse(word='ебали', tag=OpencorporaTag('NOUN,anim,masc,Fixd,Name plur,ablt'), normal_form='ебали', score=0.06686046511627906, methods_stack=((<DictionaryAnalyzer>, 'али', 62, 10), (<UnknownPrefixAnalyzer>, 'еб'))),\n",
       " Parse(word='ебали', tag=OpencorporaTag('NOUN,anim,masc,Fixd,Name plur,loct'), normal_form='ебали', score=0.06686046511627906, methods_stack=((<DictionaryAnalyzer>, 'али', 62, 11), (<UnknownPrefixAnalyzer>, 'еб'))),\n",
       " Parse(word='ебали', tag=OpencorporaTag('NOUN,anim,femn,Name sing,gent'), normal_form='ебаля', score=0.06686046511627906, methods_stack=((<DictionaryAnalyzer>, 'али', 200, 1), (<UnknownPrefixAnalyzer>, 'еб'))),\n",
       " Parse(word='ебали', tag=OpencorporaTag('NOUN,anim,femn,Name plur,nomn'), normal_form='ебаля', score=0.06686046511627906, methods_stack=((<DictionaryAnalyzer>, 'али', 200, 7), (<UnknownPrefixAnalyzer>, 'еб'))),\n",
       " Parse(word='ебали', tag=OpencorporaTag('VERB,impf,tran plur,past,indc'), normal_form='ебать', score=0.06395348837209303, methods_stack=((<FakeDictionary>, 'ебали', 206, 10), (<KnownSuffixAnalyzer>, 'ебали')))]"
      ]
     },
     "execution_count": 103,
     "metadata": {},
     "output_type": "execute_result"
    }
   ],
   "source": [
    "p = morph.parse('ебали') #к сожалению, pymorphy не очень хорош в случае ненормативной лексики\n",
    "print(p[0].normal_form)\n",
    "p"
   ]
  },
  {
   "cell_type": "markdown",
   "metadata": {},
   "source": [
    "Но есть еще pymystem\n",
    "\n",
    "This module contains a wrapper for an excellent morphological analyzer for Russian language Yandex Mystem 3.0 released in June 2014. A morphological analyzer can perform lemmatization of text and derive a set of morphological attributes for each token. For more details about the algorithm see I. Segalovich «A fast morphological algorithm with unknown word guessing induced by a dictionary for a web search engine», MLMTA-2003, Las Vegas, Nevada, USA."
   ]
  },
  {
   "cell_type": "code",
   "execution_count": 20,
   "metadata": {
    "collapsed": true
   },
   "outputs": [],
   "source": [
    "import pymystem3"
   ]
  },
  {
   "cell_type": "code",
   "execution_count": 21,
   "metadata": {
    "collapsed": true
   },
   "outputs": [],
   "source": [
    "mstem = pymystem3.Mystem()"
   ]
  },
  {
   "cell_type": "code",
   "execution_count": 114,
   "metadata": {},
   "outputs": [
    {
     "data": {
      "text/plain": [
       "[{'analysis': [{'gr': 'S,мн,неод=(вин|им)', 'lex': 'деньги'}],\n",
       "  'text': 'деньги'},\n",
       " {'text': '\\n'}]"
      ]
     },
     "execution_count": 114,
     "metadata": {},
     "output_type": "execute_result"
    }
   ],
   "source": [
    "mstem.analyze('деньги')"
   ]
  },
  {
   "cell_type": "code",
   "execution_count": 115,
   "metadata": {},
   "outputs": [
    {
     "data": {
      "text/plain": [
       "[{'analysis': [{'gr': 'V,нп=прош,мн,изъяв,сов', 'lex': 'становиться'}],\n",
       "  'text': 'стали'},\n",
       " {'text': '\\n'}]"
      ]
     },
     "execution_count": 115,
     "metadata": {},
     "output_type": "execute_result"
    }
   ],
   "source": [
    "mstem.analyze('стали')"
   ]
  },
  {
   "cell_type": "code",
   "execution_count": 139,
   "metadata": {},
   "outputs": [
    {
     "data": {
      "text/plain": [
       "[{'analysis': [{'gr': 'V,обсц,несов=прош,мн,изъяв', 'lex': 'ебать'}],\n",
       "  'text': 'ебали'},\n",
       " {'text': '\\n'}]"
      ]
     },
     "execution_count": 139,
     "metadata": {},
     "output_type": "execute_result"
    }
   ],
   "source": [
    "mstem.analyze('ебали')"
   ]
  },
  {
   "cell_type": "code",
   "execution_count": 120,
   "metadata": {},
   "outputs": [
    {
     "data": {
      "text/plain": [
       "{'analysis': [{'gr': 'V,нп=прош,мн,изъяв,сов', 'lex': 'становиться'}],\n",
       " 'text': 'стали'}"
      ]
     },
     "execution_count": 120,
     "metadata": {},
     "output_type": "execute_result"
    }
   ],
   "source": [
    "mstem.analyze('мы не стали этого делать')[4]"
   ]
  },
  {
   "cell_type": "code",
   "execution_count": 136,
   "metadata": {},
   "outputs": [
    {
     "data": {
      "text/plain": [
       "{'analysis': [{'gr': 'S,жен,неод=(пр,ед|вин,мн|дат,ед|род,ед|им,мн)',\n",
       "   'lex': 'сталь'}],\n",
       " 'text': 'стали'}"
      ]
     },
     "execution_count": 136,
     "metadata": {},
     "output_type": "execute_result"
    }
   ],
   "source": [
    "mstem.analyze('предмет сделан из стали')[6]"
   ]
  },
  {
   "cell_type": "code",
   "execution_count": 141,
   "metadata": {},
   "outputs": [
    {
     "data": {
      "text/plain": [
       "['мы', ' ', 'не', ' ', 'становиться', ' ', 'это', ' ', 'делать', '\\n']"
      ]
     },
     "execution_count": 141,
     "metadata": {},
     "output_type": "execute_result"
    }
   ],
   "source": [
    "mstem.lemmatize('мы не стали этого делать')"
   ]
  },
  {
   "cell_type": "markdown",
   "metadata": {},
   "source": [
    "-------------"
   ]
  },
  {
   "cell_type": "code",
   "execution_count": 22,
   "metadata": {
    "collapsed": true
   },
   "outputs": [],
   "source": [
    "from tqdm import tqdm\n",
    "# Register `pandas.progress_apply` and `pandas.Series.map_apply` with `tqdm`\n",
    "# (can use `tqdm_gui`, `tqdm_notebook`, optional kwargs, etc.)\n",
    "tqdm.pandas(desc='Progress bar')"
   ]
  },
  {
   "cell_type": "code",
   "execution_count": 23,
   "metadata": {},
   "outputs": [
    {
     "name": "stderr",
     "output_type": "stream",
     "text": [
      "Progress bar: 100%|██████████| 20831/20831 [11:20<00:00, 30.62it/s]\n"
     ]
    }
   ],
   "source": [
    "#нормализация текста\n",
    "df.review_text = df.review_text.progress_apply(lambda line: [morph.parse(word)[0].normal_form for word in line.split()])"
   ]
  },
  {
   "cell_type": "code",
   "execution_count": 212,
   "metadata": {},
   "outputs": [
    {
     "data": {
      "text/plain": [
       "['парковка',\n",
       " 'для',\n",
       " 'я',\n",
       " 'гда',\n",
       " 'быть',\n",
       " 'проблема',\n",
       " 'и',\n",
       " 'вот',\n",
       " 'очередной',\n",
       " 'раз',\n",
       " 'выезжать',\n",
       " 'с',\n",
       " 'парковка',\n",
       " 'въехать',\n",
       " 'в',\n",
       " 'другой',\n",
       " 'автомобиль',\n",
       " 'задний',\n",
       " 'бампер',\n",
       " 'помятый',\n",
       " 'у',\n",
       " 'другой',\n",
       " 'автомобиль',\n",
       " 'также',\n",
       " 'иметься',\n",
       " 'повреждение',\n",
       " 'прийтись',\n",
       " 'звонить',\n",
       " 'в',\n",
       " 'контактцентр',\n",
       " 'клувера',\n",
       " 'после',\n",
       " 'мой',\n",
       " 'звонок',\n",
       " 'к',\n",
       " 'я',\n",
       " 'сразу',\n",
       " 'отправить',\n",
       " 'аварийный',\n",
       " 'комиссар',\n",
       " 'специалист',\n",
       " 'прибыть',\n",
       " 'на',\n",
       " 'парковка',\n",
       " 'спустя',\n",
       " 'минута',\n",
       " 'после',\n",
       " 'мой',\n",
       " 'обращение',\n",
       " 'а',\n",
       " 'затем',\n",
       " 'сам',\n",
       " 'вызвать',\n",
       " 'сотрудник',\n",
       " 'гибдд',\n",
       " 'я',\n",
       " 'даже',\n",
       " 'не',\n",
       " 'прийтись',\n",
       " 'выходить',\n",
       " 'из',\n",
       " 'автомобиль',\n",
       " 'поскольку',\n",
       " 'вопрос',\n",
       " 'решать',\n",
       " 'аваркий',\n",
       " 'сотрудник',\n",
       " 'прибыть',\n",
       " 'на',\n",
       " 'место',\n",
       " 'авария',\n",
       " 'запротоколировать',\n",
       " 'специалист',\n",
       " 'клувера',\n",
       " 'сделать',\n",
       " 'фотография',\n",
       " 'и',\n",
       " 'буквально',\n",
       " 'на',\n",
       " 'следующий',\n",
       " 'день',\n",
       " 'я',\n",
       " 'получить',\n",
       " 'на',\n",
       " 'рука',\n",
       " 'направление',\n",
       " 'на',\n",
       " 'ремонт',\n",
       " 'сейчас',\n",
       " 'мой',\n",
       " 'вопрос',\n",
       " 'заниматься',\n",
       " 'обещать',\n",
       " 'привезти',\n",
       " 'новый',\n",
       " 'бампер',\n",
       " 'так',\n",
       " 'что',\n",
       " 'через',\n",
       " 'несколько',\n",
       " 'день',\n",
       " 'я',\n",
       " 'отдать',\n",
       " 'машина',\n",
       " 'в',\n",
       " 'ремонт',\n",
       " 'я',\n",
       " 'очень',\n",
       " 'довольный',\n",
       " 'тем',\n",
       " 'как',\n",
       " 'аварийный',\n",
       " 'комиссар',\n",
       " 'николай',\n",
       " 'коваценко',\n",
       " 'решить',\n",
       " 'вопрос',\n",
       " 'спасибо',\n",
       " 'он',\n",
       " 'и',\n",
       " 'клувера',\n",
       " 'я',\n",
       " 'впервые',\n",
       " 'страховаться',\n",
       " 'по',\n",
       " 'каско',\n",
       " 'и',\n",
       " 'теперь',\n",
       " 'понять',\n",
       " 'как',\n",
       " 'это',\n",
       " 'удобно',\n",
       " 'сам',\n",
       " 'факт',\n",
       " 'дтп']"
      ]
     },
     "execution_count": 212,
     "metadata": {},
     "output_type": "execute_result"
    }
   ],
   "source": [
    "df.loc[1500,'review_text']"
   ]
  },
  {
   "cell_type": "code",
   "execution_count": 24,
   "metadata": {
    "collapsed": true
   },
   "outputs": [],
   "source": [
    "#pip install stop-words\n",
    "import stop_words\n",
    "#или from nltk.corpus import stopwords\n",
    "\n",
    "stopwords = stop_words.get_stop_words('russian')"
   ]
  },
  {
   "cell_type": "code",
   "execution_count": 25,
   "metadata": {},
   "outputs": [
    {
     "data": {
      "text/plain": [
       "['та', 'те', 'то', 'ту', 'ты', 'уж', 'без', 'был', 'вам', 'вас']"
      ]
     },
     "execution_count": 25,
     "metadata": {},
     "output_type": "execute_result"
    }
   ],
   "source": [
    "stopwords[40:50]"
   ]
  },
  {
   "cell_type": "code",
   "execution_count": 26,
   "metadata": {},
   "outputs": [
    {
     "name": "stdout",
     "output_type": "stream",
     "text": [
      "CPU times: user 8.74 s, sys: 87.2 ms, total: 8.82 s\n",
      "Wall time: 8.87 s\n"
     ]
    }
   ],
   "source": [
    "%%time\n",
    "#убрать стопслова\n",
    "df.review_text = df.review_text.apply(lambda line: [word for word in line if word not in stopwords])"
   ]
  },
  {
   "cell_type": "markdown",
   "metadata": {},
   "source": [
    "-------------"
   ]
  },
  {
   "cell_type": "code",
   "execution_count": 27,
   "metadata": {
    "collapsed": true
   },
   "outputs": [],
   "source": [
    "from sklearn.feature_extraction.text import CountVectorizer,TfidfVectorizer\n",
    "from sklearn.model_selection import train_test_split"
   ]
  },
  {
   "cell_type": "code",
   "execution_count": 28,
   "metadata": {
    "collapsed": true
   },
   "outputs": [],
   "source": [
    "df.mark = df.mark.apply(str.strip)"
   ]
  },
  {
   "cell_type": "code",
   "execution_count": 29,
   "metadata": {},
   "outputs": [
    {
     "data": {
      "text/plain": [
       "array(['5', '1', 'Без оценки', '2', '3', '4'], dtype=object)"
      ]
     },
     "execution_count": 29,
     "metadata": {},
     "output_type": "execute_result"
    }
   ],
   "source": [
    "df.mark.unique()"
   ]
  },
  {
   "cell_type": "code",
   "execution_count": 30,
   "metadata": {
    "collapsed": true
   },
   "outputs": [],
   "source": [
    "#сведем все к задаче бинарной классификаии\n",
    "df.mark.replace({'1':0,'2':0,'3':0,'4':1,'5':1},inplace=True)"
   ]
  },
  {
   "cell_type": "code",
   "execution_count": 31,
   "metadata": {
    "collapsed": true
   },
   "outputs": [],
   "source": [
    "temp = df[df.mark.isin([0,1])].copy()"
   ]
  },
  {
   "cell_type": "code",
   "execution_count": 32,
   "metadata": {
    "collapsed": true
   },
   "outputs": [],
   "source": [
    "X = temp.review_text.apply(lambda line: ' '.join(line))\n",
    "y = temp.mark"
   ]
  },
  {
   "cell_type": "code",
   "execution_count": 33,
   "metadata": {
    "collapsed": true
   },
   "outputs": [],
   "source": [
    "X_train, X_test, y_train, y_test = train_test_split(X, y, test_size=0.25, random_state=42)"
   ]
  },
  {
   "cell_type": "code",
   "execution_count": 34,
   "metadata": {
    "collapsed": true
   },
   "outputs": [],
   "source": [
    "cvect = CountVectorizer(ngram_range=(1,2),max_df=0.8,min_df=0.01)\n",
    "\n",
    "#TF-IDF (от англ. TF — term frequency, IDF — inverse document frequency)\n",
    "#статистическая мера, используемая для оценки важности слова в контексте документа,\n",
    "#являющегося частью коллекции документов или корпуса.\n",
    "#Вес некоторого слова пропорционален количеству употребления этого слова в документе,\n",
    "#и обратно пропорционален частоте употребления слова в других документах коллекции.\n",
    "tfvect = TfidfVectorizer(ngram_range=(1,2),max_df=0.8,min_df=0.01)"
   ]
  },
  {
   "cell_type": "code",
   "execution_count": 35,
   "metadata": {
    "collapsed": true
   },
   "outputs": [],
   "source": [
    "X_train_cv = cvect.fit_transform(X_train)\n",
    "X_train_tf = tfvect.fit_transform(X_train)"
   ]
  },
  {
   "cell_type": "code",
   "execution_count": 36,
   "metadata": {},
   "outputs": [
    {
     "data": {
      "text/plain": [
       "((13279, 1442), (13279, 1442))"
      ]
     },
     "execution_count": 36,
     "metadata": {},
     "output_type": "execute_result"
    }
   ],
   "source": [
    "X_train_cv.shape,X_train_tf.shape"
   ]
  },
  {
   "cell_type": "code",
   "execution_count": 37,
   "metadata": {
    "collapsed": true
   },
   "outputs": [],
   "source": [
    "X_test_cv = cvect.transform(X_test)\n",
    "X_test_tf = tfvect.transform(X_test)"
   ]
  },
  {
   "cell_type": "code",
   "execution_count": 281,
   "metadata": {
    "collapsed": true
   },
   "outputs": [],
   "source": [
    "from sklearn.ensemble import RandomForestClassifier"
   ]
  },
  {
   "cell_type": "code",
   "execution_count": 291,
   "metadata": {},
   "outputs": [
    {
     "data": {
      "text/plain": [
       "RandomForestClassifier(bootstrap=True, class_weight=None, criterion='gini',\n",
       "            max_depth=None, max_features='auto', max_leaf_nodes=None,\n",
       "            min_impurity_decrease=0.0, min_impurity_split=None,\n",
       "            min_samples_leaf=1, min_samples_split=2,\n",
       "            min_weight_fraction_leaf=0.0, n_estimators=100, n_jobs=1,\n",
       "            oob_score=False, random_state=None, verbose=0,\n",
       "            warm_start=False)"
      ]
     },
     "execution_count": 291,
     "metadata": {},
     "output_type": "execute_result"
    }
   ],
   "source": [
    "rfc = RandomForestClassifier(n_estimators=100)\n",
    "rfc.fit(X_train_cv,list(y_train))"
   ]
  },
  {
   "cell_type": "code",
   "execution_count": 292,
   "metadata": {
    "collapsed": true
   },
   "outputs": [],
   "source": [
    "from sklearn.metrics import classification_report"
   ]
  },
  {
   "cell_type": "code",
   "execution_count": 294,
   "metadata": {},
   "outputs": [
    {
     "name": "stdout",
     "output_type": "stream",
     "text": [
      "             precision    recall  f1-score   support\n",
      "\n",
      "          0       0.89      0.99      0.94      3484\n",
      "          1       0.92      0.59      0.72      1025\n",
      "\n",
      "avg / total       0.90      0.89      0.89      4509\n",
      "\n"
     ]
    }
   ],
   "source": [
    "print(classification_report(list(y_test),rfc.predict(X_test_cv)))"
   ]
  },
  {
   "cell_type": "code",
   "execution_count": 295,
   "metadata": {},
   "outputs": [
    {
     "data": {
      "text/plain": [
       "RandomForestClassifier(bootstrap=True, class_weight=None, criterion='gini',\n",
       "            max_depth=None, max_features='auto', max_leaf_nodes=None,\n",
       "            min_impurity_decrease=0.0, min_impurity_split=None,\n",
       "            min_samples_leaf=1, min_samples_split=2,\n",
       "            min_weight_fraction_leaf=0.0, n_estimators=100, n_jobs=1,\n",
       "            oob_score=False, random_state=None, verbose=0,\n",
       "            warm_start=False)"
      ]
     },
     "execution_count": 295,
     "metadata": {},
     "output_type": "execute_result"
    }
   ],
   "source": [
    "rfc = RandomForestClassifier(n_estimators=100)\n",
    "rfc.fit(X_train_tf,list(y_train))"
   ]
  },
  {
   "cell_type": "code",
   "execution_count": 296,
   "metadata": {},
   "outputs": [
    {
     "name": "stdout",
     "output_type": "stream",
     "text": [
      "             precision    recall  f1-score   support\n",
      "\n",
      "          0       0.90      0.98      0.94      3484\n",
      "          1       0.90      0.62      0.73      1025\n",
      "\n",
      "avg / total       0.90      0.90      0.89      4509\n",
      "\n"
     ]
    }
   ],
   "source": [
    "print(classification_report(list(y_test),rfc.predict(X_test_tf)))"
   ]
  },
  {
   "cell_type": "code",
   "execution_count": 297,
   "metadata": {},
   "outputs": [
    {
     "data": {
      "text/plain": [
       "array([ 0.00041975,  0.00041861,  0.00010791, ...,  0.00012091,\n",
       "        0.00017748,  0.0003418 ])"
      ]
     },
     "execution_count": 297,
     "metadata": {},
     "output_type": "execute_result"
    }
   ],
   "source": [
    "rfc.feature_importances_"
   ]
  },
  {
   "cell_type": "code",
   "execution_count": 306,
   "metadata": {
    "collapsed": true
   },
   "outputs": [],
   "source": [
    "feats = {v:k for k,v in tfvect.vocabulary_.items()}"
   ]
  },
  {
   "cell_type": "code",
   "execution_count": 314,
   "metadata": {
    "collapsed": true
   },
   "outputs": [],
   "source": [
    "top10feats = np.argsort(rfc.feature_importances_)[-10:] #топ-10 фич по важности"
   ]
  },
  {
   "cell_type": "code",
   "execution_count": 315,
   "metadata": {},
   "outputs": [
    {
     "name": "stdout",
     "output_type": "stream",
     "text": [
      "выразить\n",
      "вежливый\n",
      "ответ\n",
      "оперативность\n",
      "оперативно\n",
      "приятно\n",
      "суд\n",
      "благодарность\n",
      "довольный\n",
      "быстро\n"
     ]
    }
   ],
   "source": [
    "for i in top10feats:\n",
    "    print(feats[i])"
   ]
  },
  {
   "cell_type": "markdown",
   "metadata": {},
   "source": [
    "-------------"
   ]
  },
  {
   "cell_type": "markdown",
   "metadata": {},
   "source": [
    "Gensim"
   ]
  },
  {
   "cell_type": "code",
   "execution_count": 64,
   "metadata": {
    "collapsed": true
   },
   "outputs": [],
   "source": [
    "import logging\n",
    "logging.basicConfig(level=logging.INFO)"
   ]
  },
  {
   "cell_type": "code",
   "execution_count": 85,
   "metadata": {},
   "outputs": [
    {
     "name": "stderr",
     "output_type": "stream",
     "text": [
      "INFO:gensim.corpora.dictionary:adding document #0 to Dictionary(0 unique tokens: [])\n",
      "INFO:gensim.corpora.dictionary:adding document #10000 to Dictionary(38655 unique tokens: ['первое', 'дтп', 'водительский', 'карьера', 'опыт']...)\n",
      "INFO:gensim.corpora.dictionary:adding document #20000 to Dictionary(65134 unique tokens: ['первое', 'дтп', 'водительский', 'карьера', 'опыт']...)\n",
      "INFO:gensim.corpora.dictionary:built Dictionary(66917 unique tokens: ['первое', 'дтп', 'водительский', 'карьера', 'опыт']...) from 20831 documents (total 1773364 corpus positions)\n",
      "INFO:gensim.corpora.dictionary:discarding 60566 tokens: [('карьера', 3), ('гиббдшник', 1), ('кафе', 7), ('рогов', 2), ('программеинвестиционный', 1), ('портфель', 11), ('альфастрахованиежизнь', 10), ('ls', 4), ('князев', 2), ('удостовериться', 8)]...\n",
      "INFO:gensim.corpora.dictionary:keeping 6351 tokens which were in no less than 15 and no more than 13540 (=65.0%) documents\n",
      "INFO:gensim.corpora.dictionary:resulting dictionary: Dictionary(6351 unique tokens: ['первое', 'дтп', 'водительский', 'опыт', 'общение']...)\n"
     ]
    },
    {
     "name": "stdout",
     "output_type": "stream",
     "text": [
      "66917\n",
      "6351\n"
     ]
    }
   ],
   "source": [
    "#собрать словарь из датасета\n",
    "asndict = gensim.corpora.Dictionary(documents=df.review_text)\n",
    "print(len(asndict))\n",
    "\n",
    "#фильтрация слова по частотности слов\n",
    "asndict.filter_extremes(no_below=15,no_above=0.65)\n",
    "#чем меньше no_above, тем жестче фильтрует 0.1 - слово есть в 0.1 документов\n",
    "#чем больше no_below, тем жестче фильтрует\n",
    "\n",
    "#переназначает индекс\n",
    "asndict.compactify()\n",
    "print(len(asndict))"
   ]
  },
  {
   "cell_type": "markdown",
   "metadata": {},
   "source": [
    "Тематическая модель (topic model) — модель коллекции текстовых документов, которая определяет, к каким темам относится каждый документ коллекции. Алгоритм построения тематической модели получает на входе коллекцию текстовых документов. На выходе для каждого документа выдается числовой вектор, составленный из оценок степени принадлежности данного документа каждой из тем. Размерность этого вектора, равная числу тем, может либо задаваться на входе, либо определяться моделью автоматически.\n",
    "\n",
    "Тематическое моделирование (topic modeling) — построение тематической модели.\n",
    "\n",
    "Источник - http://www.machinelearning.ru/wiki/index.php?title=Тематическое_моделирование\n",
    "\n",
    "Тематическая модель (англ. topic model) коллекции текстовых документов определяет, к каким темам относится каждый документ и какие слова (термины) образуют каждую тему.\n",
    "https://ru.wikipedia.org/wiki/Тематическое_моделирование\n",
    "\n",
    "Для примера рассмотрим Латентное размещение Дирихле (LDA, от англ. Latent Dirichlet allocation)"
   ]
  },
  {
   "cell_type": "code",
   "execution_count": 86,
   "metadata": {},
   "outputs": [
    {
     "name": "stderr",
     "output_type": "stream",
     "text": [
      "INFO:gensim.models.ldamodel:using symmetric alpha at 0.1\n",
      "INFO:gensim.models.ldamodel:using symmetric eta at 0.0001574555188159345\n",
      "INFO:gensim.models.ldamodel:using serial LDA version on this node\n",
      "INFO:gensim.models.ldamodel:running online (single-pass) LDA training, 10 topics, 1 passes over the supplied corpus of 20831 documents, updating model once every 2000 documents, evaluating perplexity every 20000 documents, iterating 50x with a convergence threshold of 0.001000\n",
      "INFO:gensim.models.ldamodel:PROGRESS: pass 0, at document #2000/20831\n",
      "INFO:gensim.models.ldamodel:merging changes from 2000 documents into a model of 20831 documents\n",
      "INFO:gensim.models.ldamodel:topic #7 (0.100): 0.023*\"полис\" + 0.013*\"компания\" + 0.009*\"офис\" + 0.009*\"дать\" + 0.009*\"страховой\" + 0.007*\"сотрудник\" + 0.007*\"осаго\" + 0.006*\"страхование\" + 0.006*\"телефон\" + 0.006*\"автомобиль\"\n",
      "INFO:gensim.models.ldamodel:topic #3 (0.100): 0.019*\"компания\" + 0.011*\"полис\" + 0.010*\"страховой\" + 0.009*\"получить\" + 0.008*\"сотрудник\" + 0.008*\"договор\" + 0.007*\"ждать\" + 0.007*\"месяц\" + 0.007*\"свой\" + 0.007*\"выплата\"\n",
      "INFO:gensim.models.ldamodel:topic #0 (0.100): 0.020*\"страховой\" + 0.018*\"компания\" + 0.012*\"полис\" + 0.011*\"договор\" + 0.009*\"случай\" + 0.009*\"деньга\" + 0.008*\"документ\" + 0.008*\"офис\" + 0.007*\"свой\" + 0.007*\"выплата\"\n",
      "INFO:gensim.models.ldamodel:topic #2 (0.100): 0.012*\"страховой\" + 0.012*\"компания\" + 0.008*\"документ\" + 0.008*\"полис\" + 0.008*\"свой\" + 0.007*\"страхование\" + 0.007*\"выплата\" + 0.007*\"офис\" + 0.006*\"деньга\" + 0.006*\"случай\"\n",
      "INFO:gensim.models.ldamodel:topic #1 (0.100): 0.022*\"страховой\" + 0.013*\"полис\" + 0.011*\"компания\" + 0.008*\"деньга\" + 0.008*\"осаго\" + 0.007*\"сумма\" + 0.007*\"заявление\" + 0.007*\"выплата\" + 0.007*\"автомобиль\" + 0.007*\"ремонт\"\n",
      "INFO:gensim.models.ldamodel:topic diff=3.868393, rho=1.000000\n",
      "INFO:gensim.models.ldamodel:PROGRESS: pass 0, at document #4000/20831\n",
      "INFO:gensim.models.ldamodel:merging changes from 2000 documents into a model of 20831 documents\n",
      "INFO:gensim.models.ldamodel:topic #0 (0.100): 0.023*\"страховой\" + 0.022*\"компания\" + 0.012*\"договор\" + 0.011*\"случай\" + 0.010*\"выплата\" + 0.009*\"документ\" + 0.009*\"ремонт\" + 0.009*\"деньга\" + 0.009*\"полис\" + 0.008*\"свой\"\n",
      "INFO:gensim.models.ldamodel:topic #7 (0.100): 0.026*\"полис\" + 0.013*\"компания\" + 0.012*\"офис\" + 0.010*\"дать\" + 0.009*\"сотрудник\" + 0.008*\"осаго\" + 0.007*\"страховой\" + 0.006*\"вопрос\" + 0.006*\"клиент\" + 0.006*\"телефон\"\n",
      "INFO:gensim.models.ldamodel:topic #4 (0.100): 0.023*\"полис\" + 0.017*\"страховой\" + 0.014*\"договор\" + 0.013*\"компания\" + 0.012*\"страхование\" + 0.011*\"документ\" + 0.010*\"офис\" + 0.009*\"осаго\" + 0.009*\"страховка\" + 0.007*\"обратиться\"\n",
      "INFO:gensim.models.ldamodel:topic #2 (0.100): 0.016*\"страховой\" + 0.013*\"компания\" + 0.008*\"врач\" + 0.008*\"документ\" + 0.008*\"свой\" + 0.007*\"деньга\" + 0.007*\"случай\" + 0.007*\"сумма\" + 0.007*\"выплата\" + 0.006*\"дело\"\n",
      "INFO:gensim.models.ldamodel:topic #5 (0.100): 0.021*\"страховой\" + 0.016*\"компания\" + 0.012*\"полис\" + 0.012*\"документ\" + 0.009*\"машина\" + 0.008*\"офис\" + 0.007*\"свой\" + 0.007*\"случай\" + 0.006*\"сотрудник\" + 0.006*\"страхование\"\n",
      "INFO:gensim.models.ldamodel:topic diff=1.151045, rho=0.707107\n",
      "INFO:gensim.models.ldamodel:PROGRESS: pass 0, at document #6000/20831\n",
      "INFO:gensim.models.ldamodel:merging changes from 2000 documents into a model of 20831 documents\n",
      "INFO:gensim.models.ldamodel:topic #1 (0.100): 0.025*\"страховой\" + 0.013*\"выплата\" + 0.012*\"ремонт\" + 0.011*\"компания\" + 0.011*\"автомобиль\" + 0.010*\"дтп\" + 0.009*\"сумма\" + 0.008*\"машина\" + 0.008*\"деньга\" + 0.008*\"документ\"\n",
      "INFO:gensim.models.ldamodel:topic #8 (0.100): 0.017*\"страховой\" + 0.010*\"полис\" + 0.010*\"документ\" + 0.008*\"выплата\" + 0.008*\"офис\" + 0.008*\"случай\" + 0.008*\"тс\" + 0.007*\"дело\" + 0.007*\"страхование\" + 0.007*\"компания\"\n",
      "INFO:gensim.models.ldamodel:topic #0 (0.100): 0.026*\"страховой\" + 0.023*\"компания\" + 0.013*\"случай\" + 0.012*\"договор\" + 0.011*\"ремонт\" + 0.010*\"выплата\" + 0.009*\"документ\" + 0.009*\"свой\" + 0.008*\"полис\" + 0.008*\"страхование\"\n",
      "INFO:gensim.models.ldamodel:topic #3 (0.100): 0.020*\"компания\" + 0.011*\"месяц\" + 0.010*\"получить\" + 0.010*\"сотрудник\" + 0.010*\"страховой\" + 0.010*\"ответ\" + 0.008*\"ждать\" + 0.008*\"выплата\" + 0.008*\"телефон\" + 0.007*\"звонить\"\n",
      "INFO:gensim.models.ldamodel:topic #5 (0.100): 0.020*\"страховой\" + 0.015*\"компания\" + 0.014*\"документ\" + 0.011*\"полис\" + 0.010*\"машина\" + 0.007*\"случай\" + 0.007*\"офис\" + 0.007*\"свой\" + 0.006*\"сотрудник\" + 0.006*\"звонить\"\n",
      "INFO:gensim.models.ldamodel:topic diff=0.705052, rho=0.577350\n",
      "INFO:gensim.models.ldamodel:PROGRESS: pass 0, at document #8000/20831\n",
      "INFO:gensim.models.ldamodel:merging changes from 2000 documents into a model of 20831 documents\n",
      "INFO:gensim.models.ldamodel:topic #8 (0.100): 0.017*\"страховой\" + 0.012*\"документ\" + 0.009*\"полис\" + 0.009*\"выплата\" + 0.009*\"дело\" + 0.008*\"случай\" + 0.008*\"тс\" + 0.008*\"офис\" + 0.007*\"номер\" + 0.006*\"отказ\"\n",
      "INFO:gensim.models.ldamodel:topic #9 (0.100): 0.017*\"страховой\" + 0.016*\"ремонт\" + 0.014*\"машина\" + 0.013*\"компания\" + 0.009*\"стекло\" + 0.009*\"каско\" + 0.009*\"свой\" + 0.008*\"автомобиль\" + 0.008*\"бампер\" + 0.008*\"замена\"\n",
      "INFO:gensim.models.ldamodel:topic #6 (0.100): 0.032*\"полис\" + 0.025*\"осаго\" + 0.023*\"компания\" + 0.013*\"офис\" + 0.010*\"страховой\" + 0.010*\"клиент\" + 0.009*\"дать\" + 0.009*\"страховка\" + 0.008*\"кбм\" + 0.007*\"рса\"\n",
      "INFO:gensim.models.ldamodel:topic #4 (0.100): 0.022*\"договор\" + 0.022*\"полис\" + 0.018*\"страховой\" + 0.017*\"страхование\" + 0.013*\"компания\" + 0.012*\"документ\" + 0.009*\"офис\" + 0.008*\"страховка\" + 0.008*\"заявление\" + 0.008*\"осаго\"\n",
      "INFO:gensim.models.ldamodel:topic #5 (0.100): 0.021*\"страховой\" + 0.016*\"документ\" + 0.016*\"компания\" + 0.010*\"машина\" + 0.009*\"полис\" + 0.008*\"случай\" + 0.008*\"офис\" + 0.008*\"звонить\" + 0.007*\"позвонить\" + 0.007*\"дело\"\n",
      "INFO:gensim.models.ldamodel:topic diff=0.564119, rho=0.500000\n",
      "INFO:gensim.models.ldamodel:PROGRESS: pass 0, at document #10000/20831\n",
      "INFO:gensim.models.ldamodel:merging changes from 2000 documents into a model of 20831 documents\n",
      "INFO:gensim.models.ldamodel:topic #6 (0.100): 0.033*\"полис\" + 0.026*\"осаго\" + 0.024*\"компания\" + 0.015*\"офис\" + 0.012*\"клиент\" + 0.010*\"страховой\" + 0.009*\"страховка\" + 0.009*\"дать\" + 0.008*\"очередь\" + 0.007*\"свой\"\n",
      "INFO:gensim.models.ldamodel:topic #4 (0.100): 0.025*\"договор\" + 0.020*\"полис\" + 0.018*\"страховой\" + 0.017*\"страхование\" + 0.013*\"компания\" + 0.013*\"документ\" + 0.010*\"заявление\" + 0.009*\"офис\" + 0.008*\"страховка\" + 0.007*\"обратиться\"\n",
      "INFO:gensim.models.ldamodel:topic #8 (0.100): 0.016*\"страховой\" + 0.013*\"документ\" + 0.010*\"дело\" + 0.010*\"тс\" + 0.008*\"выплата\" + 0.008*\"случай\" + 0.008*\"полис\" + 0.008*\"отказ\" + 0.007*\"офис\" + 0.006*\"номер\"\n",
      "INFO:gensim.models.ldamodel:topic #7 (0.100): 0.023*\"полис\" + 0.014*\"компания\" + 0.014*\"офис\" + 0.014*\"сотрудник\" + 0.010*\"клиент\" + 0.009*\"дать\" + 0.008*\"вопрос\" + 0.007*\"телефон\" + 0.006*\"работа\" + 0.006*\"работать\"\n",
      "INFO:gensim.models.ldamodel:topic #5 (0.100): 0.021*\"страховой\" + 0.018*\"документ\" + 0.015*\"компания\" + 0.011*\"машина\" + 0.008*\"полис\" + 0.008*\"звонить\" + 0.008*\"офис\" + 0.008*\"дело\" + 0.008*\"случай\" + 0.007*\"позвонить\"\n",
      "INFO:gensim.models.ldamodel:topic diff=0.486473, rho=0.447214\n",
      "INFO:gensim.models.ldamodel:PROGRESS: pass 0, at document #12000/20831\n",
      "INFO:gensim.models.ldamodel:merging changes from 2000 documents into a model of 20831 documents\n",
      "INFO:gensim.models.ldamodel:topic #2 (0.100): 0.021*\"страховой\" + 0.014*\"компания\" + 0.013*\"врач\" + 0.008*\"клиника\" + 0.008*\"помощь\" + 0.008*\"случай\" + 0.008*\"ребёнок\" + 0.007*\"деньга\" + 0.007*\"больница\" + 0.006*\"свой\"\n",
      "INFO:gensim.models.ldamodel:topic #1 (0.100): 0.026*\"страховой\" + 0.018*\"выплата\" + 0.017*\"дтп\" + 0.013*\"документ\" + 0.013*\"автомобиль\" + 0.011*\"дело\" + 0.011*\"компания\" + 0.010*\"сумма\" + 0.010*\"ремонт\" + 0.009*\"машина\"\n",
      "INFO:gensim.models.ldamodel:topic #9 (0.100): 0.022*\"ремонт\" + 0.018*\"машина\" + 0.016*\"страховой\" + 0.012*\"компания\" + 0.012*\"бампер\" + 0.010*\"стекло\" + 0.009*\"направление\" + 0.009*\"каско\" + 0.009*\"замена\" + 0.009*\"автомобиль\"\n",
      "INFO:gensim.models.ldamodel:topic #0 (0.100): 0.030*\"страховой\" + 0.026*\"компания\" + 0.016*\"случай\" + 0.011*\"договор\" + 0.011*\"выплата\" + 0.011*\"ремонт\" + 0.009*\"свой\" + 0.009*\"страхование\" + 0.009*\"документ\" + 0.007*\"получить\"\n",
      "INFO:gensim.models.ldamodel:topic #7 (0.100): 0.021*\"полис\" + 0.015*\"сотрудник\" + 0.014*\"офис\" + 0.014*\"компания\" + 0.010*\"клиент\" + 0.010*\"дать\" + 0.009*\"вопрос\" + 0.007*\"работа\" + 0.006*\"телефон\" + 0.006*\"свой\"\n"
     ]
    },
    {
     "name": "stderr",
     "output_type": "stream",
     "text": [
      "INFO:gensim.models.ldamodel:topic diff=0.428977, rho=0.408248\n",
      "INFO:gensim.models.ldamodel:PROGRESS: pass 0, at document #14000/20831\n",
      "INFO:gensim.models.ldamodel:merging changes from 2000 documents into a model of 20831 documents\n",
      "INFO:gensim.models.ldamodel:topic #8 (0.100): 0.015*\"страховой\" + 0.014*\"документ\" + 0.013*\"дело\" + 0.011*\"отказ\" + 0.011*\"тс\" + 0.009*\"правило\" + 0.008*\"случай\" + 0.008*\"постановление\" + 0.007*\"выплата\" + 0.006*\"дать\"\n",
      "INFO:gensim.models.ldamodel:topic #3 (0.100): 0.019*\"компания\" + 0.018*\"месяц\" + 0.015*\"выплата\" + 0.013*\"ответ\" + 0.013*\"деньга\" + 0.012*\"ждать\" + 0.012*\"звонить\" + 0.011*\"страховой\" + 0.010*\"дело\" + 0.008*\"документ\"\n",
      "INFO:gensim.models.ldamodel:topic #0 (0.100): 0.031*\"страховой\" + 0.027*\"компания\" + 0.016*\"случай\" + 0.012*\"выплата\" + 0.011*\"договор\" + 0.010*\"ремонт\" + 0.009*\"свой\" + 0.009*\"страхование\" + 0.009*\"документ\" + 0.007*\"получить\"\n",
      "INFO:gensim.models.ldamodel:topic #9 (0.100): 0.024*\"ремонт\" + 0.019*\"машина\" + 0.016*\"страховой\" + 0.014*\"бампер\" + 0.012*\"компания\" + 0.010*\"стекло\" + 0.010*\"направление\" + 0.010*\"замена\" + 0.009*\"автомобиль\" + 0.009*\"каско\"\n",
      "INFO:gensim.models.ldamodel:topic #5 (0.100): 0.020*\"страховой\" + 0.020*\"документ\" + 0.014*\"компания\" + 0.012*\"машина\" + 0.010*\"дело\" + 0.010*\"позвонить\" + 0.009*\"звонить\" + 0.008*\"офис\" + 0.008*\"случай\" + 0.007*\"приехать\"\n",
      "INFO:gensim.models.ldamodel:topic diff=0.378592, rho=0.377964\n",
      "INFO:gensim.models.ldamodel:PROGRESS: pass 0, at document #16000/20831\n",
      "INFO:gensim.models.ldamodel:merging changes from 2000 documents into a model of 20831 documents\n",
      "INFO:gensim.models.ldamodel:topic #3 (0.100): 0.019*\"компания\" + 0.018*\"месяц\" + 0.015*\"выплата\" + 0.014*\"ждать\" + 0.014*\"деньга\" + 0.013*\"дело\" + 0.013*\"ответ\" + 0.013*\"звонить\" + 0.011*\"страховой\" + 0.009*\"документ\"\n",
      "INFO:gensim.models.ldamodel:topic #8 (0.100): 0.015*\"страховой\" + 0.015*\"дело\" + 0.015*\"документ\" + 0.013*\"отказ\" + 0.012*\"тс\" + 0.012*\"постановление\" + 0.010*\"правило\" + 0.008*\"выплата\" + 0.008*\"случай\" + 0.007*\"справка\"\n",
      "INFO:gensim.models.ldamodel:topic #5 (0.100): 0.019*\"документ\" + 0.019*\"страховой\" + 0.013*\"компания\" + 0.012*\"машина\" + 0.011*\"дело\" + 0.010*\"позвонить\" + 0.009*\"звонить\" + 0.008*\"случай\" + 0.008*\"офис\" + 0.007*\"приехать\"\n",
      "INFO:gensim.models.ldamodel:topic #2 (0.100): 0.020*\"страховой\" + 0.015*\"компания\" + 0.012*\"врач\" + 0.011*\"помощь\" + 0.009*\"ребёнок\" + 0.008*\"случай\" + 0.008*\"больница\" + 0.007*\"лечение\" + 0.007*\"деньга\" + 0.007*\"клиника\"\n",
      "INFO:gensim.models.ldamodel:topic #0 (0.100): 0.033*\"страховой\" + 0.027*\"компания\" + 0.017*\"случай\" + 0.012*\"выплата\" + 0.010*\"договор\" + 0.010*\"ремонт\" + 0.010*\"страхование\" + 0.009*\"свой\" + 0.008*\"документ\" + 0.007*\"получить\"\n",
      "INFO:gensim.models.ldamodel:topic diff=0.340303, rho=0.353553\n",
      "INFO:gensim.models.ldamodel:PROGRESS: pass 0, at document #18000/20831\n",
      "INFO:gensim.models.ldamodel:merging changes from 2000 documents into a model of 20831 documents\n",
      "INFO:gensim.models.ldamodel:topic #2 (0.100): 0.020*\"страховой\" + 0.015*\"врач\" + 0.014*\"компания\" + 0.011*\"ребёнок\" + 0.011*\"помощь\" + 0.009*\"больница\" + 0.008*\"случай\" + 0.008*\"лечение\" + 0.007*\"страховка\" + 0.007*\"деньга\"\n",
      "INFO:gensim.models.ldamodel:topic #6 (0.100): 0.033*\"полис\" + 0.026*\"осаго\" + 0.026*\"компания\" + 0.015*\"офис\" + 0.012*\"клиент\" + 0.010*\"страховка\" + 0.010*\"страховой\" + 0.009*\"свой\" + 0.008*\"дать\" + 0.006*\"страхование\"\n",
      "INFO:gensim.models.ldamodel:topic #0 (0.100): 0.033*\"страховой\" + 0.027*\"компания\" + 0.017*\"случай\" + 0.012*\"выплата\" + 0.011*\"договор\" + 0.010*\"страхование\" + 0.009*\"ремонт\" + 0.009*\"свой\" + 0.008*\"документ\" + 0.007*\"получить\"\n",
      "INFO:gensim.models.ldamodel:topic #4 (0.100): 0.033*\"договор\" + 0.020*\"страховой\" + 0.019*\"страхование\" + 0.017*\"полис\" + 0.013*\"заявление\" + 0.013*\"компания\" + 0.011*\"документ\" + 0.007*\"получить\" + 0.007*\"деньга\" + 0.006*\"офис\"\n",
      "INFO:gensim.models.ldamodel:topic #5 (0.100): 0.020*\"документ\" + 0.019*\"страховой\" + 0.012*\"компания\" + 0.012*\"дело\" + 0.012*\"машина\" + 0.011*\"позвонить\" + 0.009*\"звонить\" + 0.007*\"случай\" + 0.007*\"офис\" + 0.007*\"приехать\"\n",
      "INFO:gensim.models.ldamodel:topic diff=0.309256, rho=0.333333\n",
      "INFO:gensim.models.ldamodel:-7.294 per-word bound, 157.0 perplexity estimate based on a held-out corpus of 2000 documents with 176887 words\n",
      "INFO:gensim.models.ldamodel:PROGRESS: pass 0, at document #20000/20831\n",
      "INFO:gensim.models.ldamodel:merging changes from 2000 documents into a model of 20831 documents\n",
      "INFO:gensim.models.ldamodel:topic #9 (0.100): 0.024*\"ремонт\" + 0.020*\"машина\" + 0.018*\"бампер\" + 0.015*\"страховой\" + 0.011*\"замена\" + 0.011*\"компания\" + 0.011*\"задний\" + 0.009*\"повреждение\" + 0.009*\"направление\" + 0.009*\"рубль\"\n",
      "INFO:gensim.models.ldamodel:topic #3 (0.100): 0.020*\"компания\" + 0.019*\"месяц\" + 0.018*\"выплата\" + 0.018*\"дело\" + 0.016*\"деньга\" + 0.014*\"ответ\" + 0.013*\"ждать\" + 0.012*\"звонить\" + 0.011*\"страховой\" + 0.010*\"документ\"\n",
      "INFO:gensim.models.ldamodel:topic #5 (0.100): 0.020*\"документ\" + 0.019*\"страховой\" + 0.012*\"дело\" + 0.012*\"машина\" + 0.012*\"компания\" + 0.010*\"позвонить\" + 0.009*\"звонить\" + 0.007*\"случай\" + 0.007*\"приехать\" + 0.007*\"офис\"\n",
      "INFO:gensim.models.ldamodel:topic #0 (0.100): 0.034*\"страховой\" + 0.027*\"компания\" + 0.017*\"случай\" + 0.013*\"выплата\" + 0.010*\"страхование\" + 0.010*\"договор\" + 0.009*\"свой\" + 0.008*\"ремонт\" + 0.008*\"документ\" + 0.007*\"возмещение\"\n",
      "INFO:gensim.models.ldamodel:topic #6 (0.100): 0.032*\"полис\" + 0.027*\"компания\" + 0.025*\"осаго\" + 0.015*\"офис\" + 0.012*\"клиент\" + 0.011*\"страховка\" + 0.009*\"страховой\" + 0.009*\"свой\" + 0.007*\"дать\" + 0.006*\"страхование\"\n",
      "INFO:gensim.models.ldamodel:topic diff=0.290176, rho=0.316228\n",
      "INFO:gensim.models.ldamodel:-7.344 per-word bound, 162.5 perplexity estimate based on a held-out corpus of 831 documents with 78528 words\n",
      "INFO:gensim.models.ldamodel:PROGRESS: pass 0, at document #20831/20831\n",
      "INFO:gensim.models.ldamodel:merging changes from 831 documents into a model of 20831 documents\n",
      "INFO:gensim.models.ldamodel:topic #2 (0.100): 0.018*\"страховой\" + 0.014*\"компания\" + 0.013*\"врач\" + 0.011*\"ребёнок\" + 0.010*\"помощь\" + 0.009*\"страховка\" + 0.009*\"случай\" + 0.008*\"лечение\" + 0.007*\"деньга\" + 0.007*\"больница\"\n",
      "INFO:gensim.models.ldamodel:topic #9 (0.100): 0.025*\"ремонт\" + 0.020*\"машина\" + 0.018*\"бампер\" + 0.014*\"страховой\" + 0.011*\"компания\" + 0.011*\"задний\" + 0.010*\"замена\" + 0.009*\"повреждение\" + 0.009*\"рубль\" + 0.009*\"крыло\"\n",
      "INFO:gensim.models.ldamodel:topic #7 (0.100): 0.028*\"br\" + 0.019*\"сотрудник\" + 0.015*\"компания\" + 0.013*\"клиент\" + 0.012*\"полис\" + 0.010*\"вопрос\" + 0.009*\"отзыв\" + 0.009*\"офис\" + 0.009*\"работа\" + 0.008*\"дать\"\n",
      "INFO:gensim.models.ldamodel:topic #0 (0.100): 0.035*\"страховой\" + 0.028*\"компания\" + 0.017*\"случай\" + 0.014*\"выплата\" + 0.010*\"страхование\" + 0.010*\"свой\" + 0.010*\"договор\" + 0.008*\"ремонт\" + 0.007*\"возмещение\" + 0.007*\"автомобиль\"\n",
      "INFO:gensim.models.ldamodel:topic #3 (0.100): 0.020*\"компания\" + 0.019*\"дело\" + 0.019*\"выплата\" + 0.019*\"деньга\" + 0.018*\"месяц\" + 0.014*\"ответ\" + 0.012*\"ждать\" + 0.011*\"страховой\" + 0.011*\"звонить\" + 0.010*\"документ\"\n",
      "INFO:gensim.models.ldamodel:topic diff=0.301811, rho=0.301511\n"
     ]
    }
   ],
   "source": [
    "#обучение модели\n",
    "num_topics=10\n",
    "ldamodel = gensim.models.LdaModel(corpus=[asndict.doc2bow(t) for t in df.review_text],id2word=asndict,num_topics=num_topics)"
   ]
  },
  {
   "cell_type": "code",
   "execution_count": 87,
   "metadata": {
    "collapsed": true
   },
   "outputs": [],
   "source": [
    "output = [ldamodel[t] for t in [asndict.doc2bow(t) for t in df.review_text]]"
   ]
  },
  {
   "cell_type": "code",
   "execution_count": 88,
   "metadata": {},
   "outputs": [
    {
     "data": {
      "text/plain": [
       "5"
      ]
     },
     "execution_count": 88,
     "metadata": {},
     "output_type": "execute_result"
    }
   ],
   "source": [
    "#вектор топиков для каждого документа, длина каждого вектора должна быть равна числу топиков\n",
    "len(output[0]) #длина не всегда правильная, нужно переконвертировать\n",
    "#бывает что если значение слишком близко к нулю, этот элемент выкидывает"
   ]
  },
  {
   "cell_type": "code",
   "execution_count": 89,
   "metadata": {},
   "outputs": [
    {
     "data": {
      "application/vnd.jupyter.widget-view+json": {
       "model_id": "ca2c2aa4cf994103a3c1030112b7ffa2",
       "version_major": 2,
       "version_minor": 0
      },
      "text/html": [
       "<p>Failed to display Jupyter Widget of type <code>HBox</code>.</p>\n",
       "<p>\n",
       "  If you're reading this message in the Jupyter Notebook or JupyterLab Notebook, it may mean\n",
       "  that the widgets JavaScript is still loading. If this message persists, it\n",
       "  likely means that the widgets JavaScript library is either not installed or\n",
       "  not enabled. See the <a href=\"https://ipywidgets.readthedocs.io/en/stable/user_install.html\">Jupyter\n",
       "  Widgets Documentation</a> for setup instructions.\n",
       "</p>\n",
       "<p>\n",
       "  If you're reading this message in another frontend (for example, a static\n",
       "  rendering on GitHub or <a href=\"https://nbviewer.jupyter.org/\">NBViewer</a>),\n",
       "  it may mean that your frontend doesn't currently support widgets.\n",
       "</p>\n"
      ],
      "text/plain": [
       "HBox(children=(IntProgress(value=0, max=20831), HTML(value='')))"
      ]
     },
     "metadata": {},
     "output_type": "display_data"
    },
    {
     "name": "stdout",
     "output_type": "stream",
     "text": [
      "\n"
     ]
    }
   ],
   "source": [
    "#приведение всех векторов к одной длине - заполнение пропусков нулями\n",
    "correct_output = []\n",
    "for vector in tqdm_notebook(output):\n",
    "    tempdict = {ind:value for ind,value in vector}\n",
    "    correct_output.append([tempdict[i] if i in tempdict.keys() else 0 for i in range(num_topics)])"
   ]
  },
  {
   "cell_type": "code",
   "execution_count": 90,
   "metadata": {},
   "outputs": [
    {
     "data": {
      "image/png": "[encoded data removed]",
      "text/plain": [
       "<matplotlib.figure.Figure at 0x11dfe0748>"
      ]
     },
     "metadata": {},
     "output_type": "display_data"
    }
   ],
   "source": [
    "#ldamodel.diff(ldamodel) - матрица расстояний между топиками, второе - аннотация\n",
    "dist_matrix = ldamodel.diff(ldamodel)[0] #попарные расстояние между темами\n",
    "plt.figure(figsize=(8,8))\n",
    "plt.pcolor(dist_matrix,cmap='RdYlGn')\n",
    "plt.show()\n",
    "#чем более зеленый оттенок, тем более разные темы"
   ]
  },
  {
   "cell_type": "code",
   "execution_count": 91,
   "metadata": {},
   "outputs": [
    {
     "data": {
      "text/plain": [
       "[['страховка',\n",
       "  'проблема',\n",
       "  'обратиться',\n",
       "  'говорить',\n",
       "  'результат',\n",
       "  'рубль',\n",
       "  'страховой',\n",
       "  'итог',\n",
       "  'полис',\n",
       "  'получить'],\n",
       " ['приехать',\n",
       "  'ждать',\n",
       "  'сервис',\n",
       "  'новый',\n",
       "  'быстро',\n",
       "  'доктор',\n",
       "  'цена',\n",
       "  'эксперт',\n",
       "  'приём',\n",
       "  'ремонт']]"
      ]
     },
     "execution_count": 91,
     "metadata": {},
     "output_type": "execute_result"
    }
   ],
   "source": [
    "ldamodel.diff(ldamodel)[1][2][9] #пересечение 3 и 10 темы, отличия этих тем"
   ]
  },
  {
   "cell_type": "code",
   "execution_count": 92,
   "metadata": {},
   "outputs": [
    {
     "data": {
      "text/plain": [
       "[(0,\n",
       "  '0.035*\"страховой\" + 0.028*\"компания\" + 0.017*\"случай\" + 0.014*\"выплата\" + 0.010*\"страхование\" + 0.010*\"свой\" + 0.010*\"договор\" + 0.008*\"ремонт\" + 0.007*\"возмещение\" + 0.007*\"автомобиль\"'),\n",
       " (1,\n",
       "  '0.025*\"выплата\" + 0.023*\"страховой\" + 0.020*\"дтп\" + 0.016*\"сумма\" + 0.015*\"дело\" + 0.014*\"экспертиза\" + 0.014*\"документ\" + 0.013*\"суд\" + 0.012*\"компания\" + 0.012*\"автомобиль\"'),\n",
       " (2,\n",
       "  '0.018*\"страховой\" + 0.014*\"компания\" + 0.013*\"врач\" + 0.011*\"ребёнок\" + 0.010*\"помощь\" + 0.009*\"страховка\" + 0.009*\"случай\" + 0.008*\"лечение\" + 0.007*\"деньга\" + 0.007*\"больница\"'),\n",
       " (3,\n",
       "  '0.020*\"компания\" + 0.019*\"дело\" + 0.019*\"выплата\" + 0.019*\"деньга\" + 0.018*\"месяц\" + 0.014*\"ответ\" + 0.012*\"ждать\" + 0.011*\"страховой\" + 0.011*\"звонить\" + 0.010*\"документ\"'),\n",
       " (4,\n",
       "  '0.033*\"договор\" + 0.021*\"страховой\" + 0.019*\"страхование\" + 0.015*\"полис\" + 0.014*\"компания\" + 0.013*\"заявление\" + 0.011*\"документ\" + 0.008*\"деньга\" + 0.007*\"получить\" + 0.007*\"сумма\"'),\n",
       " (5,\n",
       "  '0.019*\"документ\" + 0.018*\"страховой\" + 0.013*\"машина\" + 0.012*\"компания\" + 0.012*\"дело\" + 0.010*\"позвонить\" + 0.008*\"звонить\" + 0.008*\"приехать\" + 0.007*\"случай\" + 0.007*\"офис\"'),\n",
       " (6,\n",
       "  '0.029*\"полис\" + 0.029*\"компания\" + 0.022*\"осаго\" + 0.014*\"офис\" + 0.013*\"клиент\" + 0.011*\"страховка\" + 0.010*\"свой\" + 0.009*\"страховой\" + 0.007*\"дать\" + 0.006*\"очередь\"'),\n",
       " (7,\n",
       "  '0.028*\"br\" + 0.019*\"сотрудник\" + 0.015*\"компания\" + 0.013*\"клиент\" + 0.012*\"полис\" + 0.010*\"вопрос\" + 0.009*\"отзыв\" + 0.009*\"офис\" + 0.009*\"работа\" + 0.008*\"дать\"'),\n",
       " (8,\n",
       "  '0.020*\"отказ\" + 0.016*\"дело\" + 0.016*\"документ\" + 0.015*\"страховой\" + 0.012*\"правило\" + 0.012*\"тс\" + 0.011*\"постановление\" + 0.010*\"справка\" + 0.009*\"повреждение\" + 0.008*\"случай\"'),\n",
       " (9,\n",
       "  '0.025*\"ремонт\" + 0.020*\"машина\" + 0.018*\"бампер\" + 0.014*\"страховой\" + 0.011*\"компания\" + 0.011*\"задний\" + 0.010*\"замена\" + 0.009*\"повреждение\" + 0.009*\"рубль\" + 0.009*\"крыло\"')]"
      ]
     },
     "execution_count": 92,
     "metadata": {},
     "output_type": "execute_result"
    }
   ],
   "source": [
    "#все топики\n",
    "ldamodel.show_topics(num_topics)"
   ]
  },
  {
   "cell_type": "markdown",
   "metadata": {},
   "source": [
    "-------------"
   ]
  },
  {
   "cell_type": "code",
   "execution_count": 41,
   "metadata": {
    "collapsed": true
   },
   "outputs": [],
   "source": [
    "#pip install markovify\n",
    "#Цепи Маркова\n",
    "import markovify"
   ]
  },
  {
   "cell_type": "code",
   "execution_count": 42,
   "metadata": {
    "collapsed": true
   },
   "outputs": [],
   "source": [
    "#Считать текст\n",
    "text = pd.read_excel('asn.xlsx')"
   ]
  },
  {
   "cell_type": "code",
   "execution_count": 43,
   "metadata": {
    "collapsed": true
   },
   "outputs": [],
   "source": [
    "text = text['review_text'].values"
   ]
  },
  {
   "cell_type": "code",
   "execution_count": 44,
   "metadata": {},
   "outputs": [
    {
     "data": {
      "text/plain": [
       "'первое дтп в водительской карьере, первый опыт общения со страховой — камаз вьехал в дверь, помял пассажирскую дверь, и поцарапал и помял водительскую дверь и крыло. собрал все бумажки с гиббдшников, приехал в страховую. посоветовали ехать в четверг, меньше народу. у меня осаго. почитав негативные отзывы в интернете был готов к худшему. был приятно удивлен тем, что с подачей документов и оценкой ущерба уложился всего в час со всеми ожиданиями и фотографированиями. центр на нагорной — очень удобно, есть возможность подождать с комфортом, туалет, кафе и тд. все повреждения автомобиля подробно записали, ничего не пытались не вписывать, у меня не было претензий к оценщику. ровно через 20 дней на карточку перевели сумму, которая покрывает ремонт. следующая страховка будет только в ресо. номер дела пр7510089 претензий нет. молодцы.'"
      ]
     },
     "execution_count": 44,
     "metadata": {},
     "output_type": "execute_result"
    }
   ],
   "source": [
    "text[0]"
   ]
  },
  {
   "cell_type": "code",
   "execution_count": 45,
   "metadata": {
    "collapsed": true
   },
   "outputs": [],
   "source": [
    "text = ' '.join(text)"
   ]
  },
  {
   "cell_type": "code",
   "execution_count": 46,
   "metadata": {
    "collapsed": true
   },
   "outputs": [],
   "source": [
    "#Запилить модель\n",
    "text_model = markovify.Text(text)"
   ]
  },
  {
   "cell_type": "code",
   "execution_count": 52,
   "metadata": {},
   "outputs": [
    {
     "data": {
      "text/plain": [
       "'В целом отношение к вам запрос на дополнительную учётную запись этого разговора я понял, что сделал он это сделает используя метод «НАЛОЖЕНИЯ РУК»? ГАЙДЕ не выполняет добросовестно свою работу.'"
      ]
     },
     "execution_count": 52,
     "metadata": {},
     "output_type": "execute_result"
    }
   ],
   "source": [
    "text_model.make_sentence()"
   ]
  },
  {
   "cell_type": "code",
   "execution_count": 155,
   "metadata": {},
   "outputs": [
    {
     "data": {
      "text/plain": [
       "'В общем, отношение - бери что дают добро обращаться в суд?'"
      ]
     },
     "execution_count": 155,
     "metadata": {},
     "output_type": "execute_result"
    }
   ],
   "source": [
    "text_model.make_sentence()"
   ]
  },
  {
   "cell_type": "code",
   "execution_count": 156,
   "metadata": {},
   "outputs": [
    {
     "data": {
      "text/plain": [
       "'Прождал еще около 3 х месяцев!!! Как не старалась страховая компания три месяца машина как новая.'"
      ]
     },
     "execution_count": 156,
     "metadata": {},
     "output_type": "execute_result"
    }
   ],
   "source": [
    "text_model.make_short_sentence(140)"
   ]
  },
  {
   "cell_type": "code",
   "execution_count": 158,
   "metadata": {},
   "outputs": [
    {
     "data": {
      "text/plain": [
       "'Надеюсь, в роддоме относятся с пониманием, все зарегистрировали.'"
      ]
     },
     "execution_count": 158,
     "metadata": {},
     "output_type": "execute_result"
    }
   ],
   "source": [
    "text_model.make_short_sentence(100)"
   ]
  },
  {
   "cell_type": "code",
   "execution_count": 159,
   "metadata": {},
   "outputs": [
    {
     "data": {
      "text/plain": [
       "'очень не понравилось, отвратительная компания, хамское отношение к людям.'"
      ]
     },
     "execution_count": 159,
     "metadata": {},
     "output_type": "execute_result"
    }
   ],
   "source": [
    "text_model.make_short_sentence(100)"
   ]
  },
  {
   "cell_type": "code",
   "execution_count": 184,
   "metadata": {},
   "outputs": [
    {
     "data": {
      "text/plain": [
       "'Будем обращаться в общество по защите прав потребителей, а может нет ,это недоказуемо ,пишу для тех кто им выдали лицензию.'"
      ]
     },
     "execution_count": 184,
     "metadata": {},
     "output_type": "execute_result"
    }
   ],
   "source": [
    "text_model.make_short_sentence(150)"
   ]
  },
  {
   "cell_type": "code",
   "execution_count": 72,
   "metadata": {},
   "outputs": [
    {
     "data": {
      "text/plain": [
       "'Беспредел полный и подробный.'"
      ]
     },
     "execution_count": 72,
     "metadata": {},
     "output_type": "execute_result"
    }
   ],
   "source": [
    "text_model.make_sentence_with_start('Беспредел')"
   ]
  },
  {
   "cell_type": "code",
   "execution_count": 76,
   "metadata": {},
   "outputs": [
    {
     "data": {
      "text/plain": [
       "'Хамло и быдло самое настоящее!!! Ни какой суд мед экспертизы не согласны, будем оспаривать.'"
      ]
     },
     "execution_count": 76,
     "metadata": {},
     "output_type": "execute_result"
    }
   ],
   "source": [
    "text_model.make_sentence_with_start('Хамло')"
   ]
  },
  {
   "cell_type": "code",
   "execution_count": 109,
   "metadata": {},
   "outputs": [
    {
     "data": {
      "text/plain": [
       "'очень странно но он известен.'"
      ]
     },
     "execution_count": 109,
     "metadata": {},
     "output_type": "execute_result"
    }
   ],
   "source": [
    "text_model.make_sentence_with_start('очень')"
   ]
  }
 ],
 "metadata": {
  "kernelspec": {
   "display_name": "Python 3",
   "language": "python",
   "name": "python3"
  },
  "language_info": {
   "codemirror_mode": {
    "name": "ipython",
    "version": 3
   },
   "file_extension": ".py",
   "mimetype": "text/x-python",
   "name": "python",
   "nbconvert_exporter": "python",
   "pygments_lexer": "ipython3",
   "version": "3.6.3"
  }
 },
 "nbformat": 4,
 "nbformat_minor": 2
}
